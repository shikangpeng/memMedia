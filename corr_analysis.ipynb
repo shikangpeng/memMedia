{
 "cells": [
  {
   "cell_type": "markdown",
   "metadata": {},
   "source": [
    "# Reddit Image Analysis"
   ]
  },
  {
   "cell_type": "markdown",
   "metadata": {},
   "source": [
    "### Toolkits"
   ]
  },
  {
   "cell_type": "code",
   "execution_count": 1,
   "metadata": {
    "tags": []
   },
   "outputs": [],
   "source": [
    "import pandas as pd\n",
    "import scipy.stats\n",
    "import pandas as pd\n",
    "import nltk\n",
    "import ast\n",
    "import numpy as np\n",
    "from nltk.sentiment import SentimentIntensityAnalyzer\n",
    "from scipy.stats import spearmanr\n",
    "import statsmodels.api as sm\n",
    "\n",
    "from sklearn.linear_model import LinearRegression, Ridge, Lasso\n",
    "from sklearn.preprocessing import PolynomialFeatures\n",
    "from sklearn.model_selection import train_test_split\n",
    "from sklearn.preprocessing import OneHotEncoder\n",
    "from sklearn.manifold import MDS\n",
    "import matplotlib.pyplot as plt\n",
    "import plotly.graph_objs as go\n",
    "from statsmodels.stats.outliers_influence import variance_inflation_factor\n"
   ]
  },
  {
   "cell_type": "markdown",
   "metadata": {},
   "source": [
    "### Data Cleaning"
   ]
  },
  {
   "cell_type": "code",
   "execution_count": 2,
   "metadata": {},
   "outputs": [],
   "source": [
    "# Concatenate\n",
    "data1 = pd.read_csv('/Users/lucian/library/cloudstorage/box-box/memoMedia/reddit_Data/Fetch_Data1/reddit_scores.csv')\n",
    "data2 = pd.read_csv('/Users/lucian/library/cloudstorage/box-box/memoMedia/reddit_Data/Fetch_Data2/reddit_scores.csv')\n",
    "data3 = pd.read_csv('/Users/lucian/library/cloudstorage/box-box/memoMedia/reddit_Data/Fetch_Data3/reddit_scores.csv')"
   ]
  },
  {
   "cell_type": "code",
   "execution_count": 3,
   "metadata": {},
   "outputs": [],
   "source": [
    "raw = pd.concat([data1, data2, data3], ignore_index=True)"
   ]
  },
  {
   "cell_type": "code",
   "execution_count": 4,
   "metadata": {},
   "outputs": [
    {
     "data": {
      "text/html": [
       "<div>\n",
       "<style scoped>\n",
       "    .dataframe tbody tr th:only-of-type {\n",
       "        vertical-align: middle;\n",
       "    }\n",
       "\n",
       "    .dataframe tbody tr th {\n",
       "        vertical-align: top;\n",
       "    }\n",
       "\n",
       "    .dataframe thead th {\n",
       "        text-align: right;\n",
       "    }\n",
       "</style>\n",
       "<table border=\"1\" class=\"dataframe\">\n",
       "  <thead>\n",
       "    <tr style=\"text-align: right;\">\n",
       "      <th></th>\n",
       "      <th>upvotes</th>\n",
       "      <th>comments</th>\n",
       "      <th>memorability_score</th>\n",
       "      <th>Unnamed: 0</th>\n",
       "    </tr>\n",
       "  </thead>\n",
       "  <tbody>\n",
       "    <tr>\n",
       "      <th>count</th>\n",
       "      <td>1247.00000</td>\n",
       "      <td>1247.000000</td>\n",
       "      <td>1247.000000</td>\n",
       "      <td>376.000000</td>\n",
       "    </tr>\n",
       "    <tr>\n",
       "      <th>mean</th>\n",
       "      <td>2391.82518</td>\n",
       "      <td>129.562149</td>\n",
       "      <td>0.746311</td>\n",
       "      <td>187.500000</td>\n",
       "    </tr>\n",
       "    <tr>\n",
       "      <th>std</th>\n",
       "      <td>8043.72559</td>\n",
       "      <td>555.583018</td>\n",
       "      <td>0.125758</td>\n",
       "      <td>108.686092</td>\n",
       "    </tr>\n",
       "    <tr>\n",
       "      <th>min</th>\n",
       "      <td>4.00000</td>\n",
       "      <td>5.000000</td>\n",
       "      <td>0.412756</td>\n",
       "      <td>0.000000</td>\n",
       "    </tr>\n",
       "    <tr>\n",
       "      <th>25%</th>\n",
       "      <td>101.50000</td>\n",
       "      <td>7.000000</td>\n",
       "      <td>0.665339</td>\n",
       "      <td>93.750000</td>\n",
       "    </tr>\n",
       "    <tr>\n",
       "      <th>50%</th>\n",
       "      <td>235.00000</td>\n",
       "      <td>11.000000</td>\n",
       "      <td>0.768715</td>\n",
       "      <td>187.500000</td>\n",
       "    </tr>\n",
       "    <tr>\n",
       "      <th>75%</th>\n",
       "      <td>400.50000</td>\n",
       "      <td>27.000000</td>\n",
       "      <td>0.842717</td>\n",
       "      <td>281.250000</td>\n",
       "    </tr>\n",
       "    <tr>\n",
       "      <th>max</th>\n",
       "      <td>71773.00000</td>\n",
       "      <td>7910.000000</td>\n",
       "      <td>0.980310</td>\n",
       "      <td>375.000000</td>\n",
       "    </tr>\n",
       "  </tbody>\n",
       "</table>\n",
       "</div>"
      ],
      "text/plain": [
       "           upvotes     comments  memorability_score  Unnamed: 0\n",
       "count   1247.00000  1247.000000         1247.000000  376.000000\n",
       "mean    2391.82518   129.562149            0.746311  187.500000\n",
       "std     8043.72559   555.583018            0.125758  108.686092\n",
       "min        4.00000     5.000000            0.412756    0.000000\n",
       "25%      101.50000     7.000000            0.665339   93.750000\n",
       "50%      235.00000    11.000000            0.768715  187.500000\n",
       "75%      400.50000    27.000000            0.842717  281.250000\n",
       "max    71773.00000  7910.000000            0.980310  375.000000"
      ]
     },
     "execution_count": 4,
     "metadata": {},
     "output_type": "execute_result"
    }
   ],
   "source": [
    "raw.describe()"
   ]
  },
  {
   "cell_type": "code",
   "execution_count": 5,
   "metadata": {},
   "outputs": [],
   "source": [
    "raw = pd.read_csv('/Users/lucian/library/cloudstorage/box-box/memoMedia/reddit_Data/allData_titles.csv')"
   ]
  },
  {
   "cell_type": "code",
   "execution_count": null,
   "metadata": {},
   "outputs": [],
   "source": [
    "def remove_outliers_iqr(df, columns):\n",
    "    outlier_indices = pd.Index([])\n",
    "\n",
    "    for column in columns:\n",
    "        Q1 = df[column].quantile(0.25)\n",
    "        Q3 = df[column].quantile(0.75)\n",
    "        IQR = Q3 - Q1\n",
    "\n",
    "        lower_thresh = Q1 - 1.5 * IQR\n",
    "        upper_thresh = Q3 + 1.5 * IQR\n",
    "\n",
    "        column_outliers = df[(df[column] < lower_thresh) | (df[column] > upper_thresh)].index\n",
    "        outlier_indices = outlier_indices.union(column_outliers)\n",
    "        \n",
    "    df_cleaned = df.drop(outlier_indices)\n",
    "\n",
    "    return outlier_indices, df_cleaned\n",
    "\n",
    "outlier_indices, df = remove_outliers_iqr(raw, ['upvotes', 'comments'])\n"
   ]
  },
  {
   "cell_type": "code",
   "execution_count": 7,
   "metadata": {},
   "outputs": [],
   "source": [
    "df['id'] = df['id'].astype(str)"
   ]
  },
  {
   "cell_type": "code",
   "execution_count": 8,
   "metadata": {},
   "outputs": [
    {
     "data": {
      "text/plain": [
       "Text(0, 0.5, 'Frequency')"
      ]
     },
     "execution_count": 8,
     "metadata": {},
     "output_type": "execute_result"
    },
    {
     "data": {
      "image/png": "[encoded data removed]",
      "text/plain": [
       "<Figure size 864x720 with 2 Axes>"
      ]
     },
     "metadata": {
      "needs_background": "light"
     },
     "output_type": "display_data"
    }
   ],
   "source": [
    "import matplotlib.pyplot as plt\n",
    "\n",
    "fig, ax = plt.subplots(2, 1, figsize=(12, 10))\n",
    "\n",
    "# Original data\n",
    "ax[0].hist(df['upvotes'], bins=50, color='blue', alpha=0.7)\n",
    "ax[0].set_title('Original Upvotes Distribution')\n",
    "ax[0].set_xlabel('Upvotes')\n",
    "ax[0].set_ylabel('Frequency')\n",
    "\n",
    "ax[1].hist(df['comments'], bins=50, color='green', alpha=0.7)\n",
    "ax[1].set_title('Original Comments Distribution')\n",
    "ax[1].set_xlabel('Comments')\n",
    "ax[1].set_ylabel('Frequency')"
   ]
  },
  {
   "cell_type": "markdown",
   "metadata": {},
   "source": [
    "## Question 1: Does memorability correlate with engagement and sentiments?\n",
    "### upvotes/# comments ~ memorability score"
   ]
  },
  {
   "cell_type": "code",
   "execution_count": 9,
   "metadata": {},
   "outputs": [
    {
     "name": "stdout",
     "output_type": "stream",
     "text": [
      "Memorability ~ Comments: \n",
      " Spearman rho: 0.203 \n",
      " p value: 0.0\n",
      "Memorability ~ upvotes: \n",
      " Spearman rho: -0.004 \n",
      " p value: 0.90241\n"
     ]
    }
   ],
   "source": [
    "spearman_comments = scipy.stats.spearmanr(df['memorability_score'], df['comments'])\n",
    "spearman_upvotes = scipy.stats.spearmanr(df['memorability_score'], df['upvotes'])\n",
    "\n",
    "print('Memorability ~ Comments:',\n",
    "      '\\n', f'Spearman rho: {spearman_comments[0].round(3)}',\n",
    "      '\\n', f'p value: {spearman_comments[1].round(5)}')\n",
    "\n",
    "print('Memorability ~ upvotes:',\n",
    "      '\\n', f'Spearman rho: {spearman_upvotes[0].round(3)}',\n",
    "      '\\n', f'p value: {spearman_upvotes[1].round(5)}')"
   ]
  },
  {
   "cell_type": "markdown",
   "metadata": {},
   "source": [
    "### Sentiment Analysis"
   ]
  },
  {
   "cell_type": "code",
   "execution_count": 10,
   "metadata": {},
   "outputs": [],
   "source": [
    "# Initialize the Sentiment Intensity Analyzer\n",
    "sia = SentimentIntensityAnalyzer()\n",
    "\n",
    "# Function to parse the JSON strings\n",
    "def parse_json(json_str):\n",
    "    try:\n",
    "        return ast.literal_eval(json_str)\n",
    "    except ValueError as e:\n",
    "        print(f\"Error parsing JSON: {e}\")\n",
    "\n",
    "# Apply the function to each entry in the 'top_comments' column\n",
    "df.loc[:, 'top_comments'] = df['top_comments'].apply(parse_json)"
   ]
  },
  {
   "cell_type": "code",
   "execution_count": 11,
   "metadata": {},
   "outputs": [],
   "source": [
    "# interates over each comment in top_comments list for given row\n",
    "# use analyzer to compute score for comment_body text of each comment\n",
    "# collects these scores in a list, which is then assigned to a new column in the DataFrame.\n",
    "df['sentiment_scores'] = df['top_comments'].apply(\n",
    "    lambda comments: [sia.polarity_scores(comment['comment_body'])['compound'] for comment in comments if 'comment_body' in comment]\n",
    ")\n",
    "df.loc[:,'average_sentiment'] = df['sentiment_scores'].apply(lambda scores: sum(scores) / len(scores) if scores else 0)"
   ]
  },
  {
   "cell_type": "markdown",
   "metadata": {},
   "source": [
    "## Question 2: How does semantic richness or low-level visual sensory information contribute to memorability & reaction?\n",
    "\n",
    "### memorability / sentiments / engagements ~ early + middle + late CNN layers"
   ]
  },
  {
   "cell_type": "markdown",
   "metadata": {},
   "source": [
    "#### Data"
   ]
  },
  {
   "cell_type": "code",
   "execution_count": 12,
   "metadata": {},
   "outputs": [],
   "source": [
    "layers = pd.read_csv('/Users/lucian/library/cloudstorage/box-box/memoMedia/reddit_Data/meanDis_image.csv')\n",
    "layers = layers.drop(outlier_indices).reset_index(drop=True)"
   ]
  },
  {
   "cell_type": "code",
   "execution_count": 13,
   "metadata": {},
   "outputs": [],
   "source": [
    "layers.rename(columns={\n",
    "    'Res_11': 'Stage_1',\n",
    "    'Res_36': 'Stage_2',\n",
    "    'Res_73': 'Stage_3_Early',\n",
    "    'Res_109': 'Stage_3_Middle',\n",
    "    'Res_145': 'Stage_3_Late',\n",
    "    'Res_155': 'Stage_4'\n",
    "}, inplace=True)"
   ]
  },
  {
   "cell_type": "code",
   "execution_count": 14,
   "metadata": {},
   "outputs": [],
   "source": [
    "# Data Preparation\n",
    "X = layers\n",
    "y = df['memorability_score'].reset_index(drop=True)"
   ]
  },
  {
   "cell_type": "markdown",
   "metadata": {},
   "source": [
    "### Levels of CNN correlation with memorability scores"
   ]
  },
  {
   "cell_type": "markdown",
   "metadata": {},
   "source": [
    "#### GLM"
   ]
  },
  {
   "cell_type": "code",
   "execution_count": 16,
   "metadata": {},
   "outputs": [
    {
     "name": "stdout",
     "output_type": "stream",
     "text": [
      "                 Generalized Linear Model Regression Results                  \n",
      "==============================================================================\n",
      "Dep. Variable:     memorability_score   No. Observations:                  997\n",
      "Model:                            GLM   Df Residuals:                      990\n",
      "Model Family:                Gaussian   Df Model:                            6\n",
      "Link Function:               identity   Scale:                       0.0073594\n",
      "Method:                          IRLS   Log-Likelihood:                 1037.3\n",
      "Date:                Mon, 27 Jan 2025   Deviance:                       7.2858\n",
      "Time:                        12:27:11   Pearson chi2:                     7.29\n",
      "No. Iterations:                     3   Pseudo R-squ. (CS):             0.7320\n",
      "Covariance Type:            nonrobust                                         \n",
      "==================================================================================\n",
      "                     coef    std err          z      P>|z|      [0.025      0.975]\n",
      "----------------------------------------------------------------------------------\n",
      "const             -0.5109      0.039    -13.082      0.000      -0.587      -0.434\n",
      "Stage_1            0.3346      0.128      2.610      0.009       0.083       0.586\n",
      "Stage_2           -0.1486      0.094     -1.584      0.113      -0.332       0.035\n",
      "Stage_3_Early     -0.1555      0.107     -1.455      0.146      -0.365       0.054\n",
      "Stage_3_Middle    -0.0120      0.088     -0.137      0.891      -0.184       0.160\n",
      "Stage_3_Late       0.2918      0.075      3.899      0.000       0.145       0.438\n",
      "Stage_4            1.5462      0.048     32.364      0.000       1.453       1.640\n",
      "==================================================================================\n"
     ]
    }
   ],
   "source": [
    "# Data Preparation\n",
    "X_g = sm.add_constant(layers)\n",
    "\n",
    "glm_model = sm.GLM(y, X_g, family=sm.families.Gaussian()).fit()\n",
    "print(glm_model.summary())\n"
   ]
  },
  {
   "cell_type": "code",
   "execution_count": 17,
   "metadata": {},
   "outputs": [
    {
     "name": "stdout",
     "output_type": "stream",
     "text": [
      "Likelihood Ratio Test:\n",
      "LR Statistic: 9.662743153929908\n",
      "Degrees of Freedom: 6\n",
      "p-value: 0.13959207440740518\n"
     ]
    }
   ],
   "source": [
    "from scipy.stats import chi2\n",
    "\n",
    "# Null deviance and residual deviance from the GLM summary\n",
    "null_deviance = glm_model.null_deviance  # Null model deviance\n",
    "residual_deviance = glm_model.deviance  # Residual deviance of the fitted model\n",
    "\n",
    "# Degrees of freedom\n",
    "df_null = glm_model.df_resid + glm_model.df_model  # Null model degrees of freedom\n",
    "df_residual = glm_model.df_resid  # Residual model degrees of freedom\n",
    "\n",
    "# Likelihood Ratio Test\n",
    "lr_stat = null_deviance - residual_deviance\n",
    "df_diff = df_null - df_residual\n",
    "\n",
    "# Compute p-value\n",
    "p_value = chi2.sf(lr_stat, df_diff)\n",
    "\n",
    "print(\"Likelihood Ratio Test:\")\n",
    "print(f\"LR Statistic: {lr_stat}\")\n",
    "print(f\"Degrees of Freedom: {df_diff}\")\n",
    "print(f\"p-value: {p_value}\")\n",
    "\n"
   ]
  },
  {
   "cell_type": "code",
   "execution_count": 18,
   "metadata": {},
   "outputs": [
    {
     "name": "stdout",
     "output_type": "stream",
     "text": [
      "Wald Statistic (W): 8.862940871426987\n",
      "Two-tailed p-value: 0.0\n"
     ]
    }
   ],
   "source": [
    "from scipy.stats import norm\n",
    "\n",
    "# Compute Wald statistic\n",
    "b_4 = 1.5462\n",
    "se_4 = 0.048\n",
    "b_1 = 0.3346\n",
    "se_1 = 0.128\n",
    "delta_b = b_4 - b_1\n",
    "var_delta_b = se_4**2 + se_1**2\n",
    "W = delta_b / np.sqrt(var_delta_b)\n",
    "\n",
    "# Calculate p-value (two-tailed)\n",
    "p_value = 2 * (1 - norm.cdf(abs(W)))\n",
    "\n",
    "print(\"Wald Statistic (W):\", W)\n",
    "print(\"Two-tailed p-value:\", p_value)\n"
   ]
  },
  {
   "cell_type": "markdown",
   "metadata": {},
   "source": [
    "#### residuals "
   ]
  },
  {
   "cell_type": "code",
   "execution_count": 19,
   "metadata": {},
   "outputs": [],
   "source": [
    "layersR = pd.read_csv('/Users/lucian/library/cloudstorage/box-box/memoMedia/reddit_Data/meanDis_image_res.csv')\n",
    "layersR = layersR.drop(outlier_indices).reset_index(drop=True)\n",
    "# Data Preparation\n",
    "X_R = layersR\n",
    "X_gr = sm.add_constant(layersR)\n",
    "\n",
    "layersR.rename(columns={\n",
    "    'Res_11': 'Stage_1',\n",
    "    'Res_36': 'Stage_2',\n",
    "    'Res_73': 'Stage_3_Early',\n",
    "    'Res_109': 'Stage_3_Middle',\n",
    "    'Res_145': 'Stage_3_Late',\n",
    "    'Res_155': 'Stage_4'\n",
    "}, inplace=True)"
   ]
  },
  {
   "cell_type": "code",
   "execution_count": null,
   "metadata": {},
   "outputs": [],
   "source": [
    "\n",
    "memorability = y  # Extract Memorability column as Series\n",
    "X_gr.columns = X_g.columns\n",
    "\n",
    "residuals = pd.DataFrame(index=X_g.index, columns=X_g.columns)  # Create a residuals DataFrame\n",
    "for col in X_g.columns:\n",
    "    reg = sm.OLS(X_g[col], sm.add_constant(X_gr[[col]])).fit()  # ResNet as predictor, ResMem as target\n",
    "    predicted = reg.predict(sm.add_constant(X_gr[[col]]))\n",
    "    residuals[col] = X_g[col] - predicted  # Compute residuals"
   ]
  },
  {
   "cell_type": "code",
   "execution_count": 21,
   "metadata": {},
   "outputs": [
    {
     "name": "stdout",
     "output_type": "stream",
     "text": [
      "Gaussian Model (ResMem residuals):\n",
      "                 Generalized Linear Model Regression Results                  \n",
      "==============================================================================\n",
      "Dep. Variable:     memorability_score   No. Observations:                  997\n",
      "Model:                            GLM   Df Residuals:                      991\n",
      "Model Family:                Gaussian   Df Model:                            5\n",
      "Link Function:               identity   Scale:                        0.011333\n",
      "Method:                          IRLS   Log-Likelihood:                 821.64\n",
      "Date:                Mon, 27 Jan 2025   Deviance:                       11.231\n",
      "Time:                        12:27:20   Pearson chi2:                     11.2\n",
      "No. Iterations:                     3   Pseudo R-squ. (CS):             0.3972\n",
      "Covariance Type:            nonrobust                                         \n",
      "==================================================================================\n",
      "                     coef    std err          z      P>|z|      [0.025      0.975]\n",
      "----------------------------------------------------------------------------------\n",
      "const           4.738e+14   2.17e+12    218.425      0.000     4.7e+14    4.78e+14\n",
      "Stage_1            0.4079      0.156      2.623      0.009       0.103       0.713\n",
      "Stage_2           -0.1415      0.120     -1.183      0.237      -0.376       0.093\n",
      "Stage_3_Early      0.0097      0.126      0.077      0.938      -0.236       0.256\n",
      "Stage_3_Middle    -0.4527      0.101     -4.476      0.000      -0.651      -0.254\n",
      "Stage_3_Late       0.2179      0.112      1.951      0.051      -0.001       0.437\n",
      "Stage_4            1.3331      0.064     20.852      0.000       1.208       1.458\n",
      "==================================================================================\n",
      "\n",
      "Gaussian Model (ResMem original):\n",
      "                 Generalized Linear Model Regression Results                  \n",
      "==============================================================================\n",
      "Dep. Variable:     memorability_score   No. Observations:                  997\n",
      "Model:                            GLM   Df Residuals:                      990\n",
      "Model Family:                Gaussian   Df Model:                            6\n",
      "Link Function:               identity   Scale:                       0.0073594\n",
      "Method:                          IRLS   Log-Likelihood:                 1037.3\n",
      "Date:                Mon, 27 Jan 2025   Deviance:                       7.2858\n",
      "Time:                        12:27:20   Pearson chi2:                     7.29\n",
      "No. Iterations:                     3   Pseudo R-squ. (CS):             0.7320\n",
      "Covariance Type:            nonrobust                                         \n",
      "==================================================================================\n",
      "                     coef    std err          z      P>|z|      [0.025      0.975]\n",
      "----------------------------------------------------------------------------------\n",
      "const             -0.5109      0.039    -13.082      0.000      -0.587      -0.434\n",
      "Stage_1            0.3346      0.128      2.610      0.009       0.083       0.586\n",
      "Stage_2           -0.1486      0.094     -1.584      0.113      -0.332       0.035\n",
      "Stage_3_Early     -0.1555      0.107     -1.455      0.146      -0.365       0.054\n",
      "Stage_3_Middle    -0.0120      0.088     -0.137      0.891      -0.184       0.160\n",
      "Stage_3_Late       0.2918      0.075      3.899      0.000       0.145       0.438\n",
      "Stage_4            1.5462      0.048     32.364      0.000       1.453       1.640\n",
      "==================================================================================\n",
      "\n",
      "Gaussian Model (ResNet):\n",
      "                 Generalized Linear Model Regression Results                  \n",
      "==============================================================================\n",
      "Dep. Variable:     memorability_score   No. Observations:                  997\n",
      "Model:                            GLM   Df Residuals:                      990\n",
      "Model Family:                Gaussian   Df Model:                            6\n",
      "Link Function:               identity   Scale:                        0.010470\n",
      "Method:                          IRLS   Log-Likelihood:                 861.63\n",
      "Date:                Mon, 27 Jan 2025   Deviance:                       10.365\n",
      "Time:                        12:27:20   Pearson chi2:                     10.4\n",
      "No. Iterations:                     3   Pseudo R-squ. (CS):             0.4678\n",
      "Covariance Type:            nonrobust                                         \n",
      "==================================================================================\n",
      "                     coef    std err          z      P>|z|      [0.025      0.975]\n",
      "----------------------------------------------------------------------------------\n",
      "const             -2.9964      0.328     -9.124      0.000      -3.640      -2.353\n",
      "Stage_1            0.5143      0.147      3.496      0.000       0.226       0.803\n",
      "Stage_2           -0.8761      0.251     -3.486      0.000      -1.369      -0.383\n",
      "Stage_3_Early     -1.1860      0.184     -6.462      0.000      -1.546      -0.826\n",
      "Stage_3_Middle     1.9384      0.219      8.839      0.000       1.509       2.368\n",
      "Stage_3_Late      -0.5725      0.102     -5.637      0.000      -0.772      -0.373\n",
      "Stage_4            4.0757      0.281     14.493      0.000       3.525       4.627\n",
      "==================================================================================\n"
     ]
    }
   ],
   "source": [
    "\n",
    "# Step 2: Helper function for Gaussian regression\n",
    "def fit_gaussian(X, y):\n",
    "    # Add intercept\n",
    "    X = sm.add_constant(X)\n",
    "    model = sm.GLM(y, X, family=sm.families.Gaussian())\n",
    "    result = model.fit()  # Use robust standard errors\n",
    "    return result\n",
    "# Fit Gaussian Regression Models\n",
    "# Using ResMem residuals\n",
    "gaussian_residuals = fit_gaussian(residuals, memorability)\n",
    "\n",
    "# Using original ResMem features\n",
    "gaussian_resmem = fit_gaussian(X_g, memorability)\n",
    "\n",
    "# Using ResNet features\n",
    "gaussian_resnet = fit_gaussian(X_gr, memorability)\n",
    "\n",
    "# Print Summary of Results\n",
    "print(\"Gaussian Model (ResMem residuals):\")\n",
    "print(gaussian_residuals.summary())\n",
    "print(\"\\nGaussian Model (ResMem original):\")\n",
    "print(gaussian_resmem.summary())\n",
    "print(\"\\nGaussian Model (ResNet):\")\n",
    "print(gaussian_resnet.summary())"
   ]
  },
  {
   "cell_type": "code",
   "execution_count": 85,
   "metadata": {},
   "outputs": [
    {
     "name": "stderr",
     "output_type": "stream",
     "text": [
      "/var/folders/l4/l90dznp92ns0myv_j37sn7fm0000gn/T/ipykernel_48927/1262963674.py:34: UserWarning: First parameter to grid() is false, but line properties are supplied. The grid will be enabled.\n",
      "  ax.grid(False, linestyle='--', alpha=0.2)\n"
     ]
    },
    {
     "data": {
      "image/png": "[encoded data removed]",
      "text/plain": [
       "<Figure size 864x576 with 1 Axes>"
      ]
     },
     "metadata": {
      "needs_background": "light"
     },
     "output_type": "display_data"
    }
   ],
   "source": [
    "import matplotlib.pyplot as plt\n",
    "import numpy as np\n",
    "\n",
    "# Data\n",
    "stages = [\"Stage 1\", \"Stage 2\", \"Stage 3 Early\", \"Stage 3 Middle\", \"Stage 3 Late\", \"Stage 4\"]\n",
    "coef = [0.3346, -0.1486, -0.1555, -0.012, 0.2918, 1.5462]\n",
    "std_err = [0.128, 0.094, 0.107, 0.088, 0.075, 0.048]\n",
    "\n",
    "stages_r = [\"Stage 1\", \"Stage 2\", \"Stage 3 Early\", \"Stage 3 Middle\", \"Stage 3 Late\", \"Stage 4\"]\n",
    "coef_r = [0.5143, -0.8761, -1.186, 1.9384, -0.5725, 4.0757]\n",
    "std_err_r = [0.147, 0.251, 0.184, 0.219, 0.102, 0.281]\n",
    "\n",
    "stages_resid = [\"Stage 1\", \"Stage 2\", \"Stage 3 Early\", \"Stage 3 Middle\", \"Stage 3 Late\", \"Stage 4\"]\n",
    "coef_resid = [0.4079,-0.1415,0.0097,-0.4527,0.2179,1.3331]\n",
    "std_err_resid = [0.156,0.120,0.126,0.101,0.112,0.064]\n",
    "\n",
    "x_values = np.arange(len(stages))\n",
    "\n",
    "# Plot setup\n",
    "fig, ax = plt.subplots(figsize=(12, 8))\n",
    "width = 0.25  # Bar width (reduced to prevent overlap)\n",
    "\n",
    "# Plot bars for stages\n",
    "bars1 = ax.bar(x_values - width, coef, color='#0339f8', yerr=std_err, capsize=10, alpha=0.8, width=width, label='ResMem ($R^2 = 0.732$)')\n",
    "bars2 = ax.bar(x_values, coef_r, color=\"#632DE9\", yerr=std_err_r, capsize=10, alpha=0.8, width=width, label='ResNet ($R^2 = 0.468$)')\n",
    "bars3 = ax.bar(x_values + width, coef_resid, color=\"red\", yerr=std_err_resid, capsize=10, alpha=0.8, width=width, label='ResMem-residual ($R^2 = 0.397$)')\n",
    "\n",
    "# Axes and labels\n",
    "ax.set_xticks(x_values)\n",
    "ax.set_xticklabels(stages, rotation=45, fontsize=20)\n",
    "plt.yticks(fontsize=15)\n",
    "ax.set_ylabel('Coefficients', fontsize=20, fontweight='bold')\n",
    "ax.set_title('Coefficients for Memorability', fontsize=28, fontweight='bold')\n",
    "ax.grid(False, linestyle='--', alpha=0.2)\n",
    "ax.spines['left'].set_visible(False)\n",
    "ax.spines['right'].set_visible(False)\n",
    "\n",
    "# Add significance markers for 'stages'\n",
    "significance = [0.009, 1, 1, 1, 0, 0]\n",
    "significance_r = [0, 0, 0, 0, 0, 0]\n",
    "significance_resid = [0.009, 1, 1, 0, 0.051, 0]\n",
    "\n",
    "for i, bar in enumerate(bars1):\n",
    "    if significance[i] < 0.001:\n",
    "        ax.text(bar.get_x() + bar.get_width() / 2., bar.get_height() + std_err[i] + 0.01, '***',\n",
    "                ha='center', va='bottom', color='black', fontsize=15, fontweight='bold')\n",
    "    elif significance[i] < 0.01:\n",
    "        ax.text(bar.get_x() + bar.get_width() / 2., bar.get_height() + std_err[i] + 0.01, '**',\n",
    "                ha='center', va='bottom', color='black', fontsize=15, fontweight='bold')\n",
    "    elif significance[i] < 0.05:\n",
    "        ax.text(bar.get_x() + bar.get_width() / 2., bar.get_height() + std_err[i] + 0.01, '*',\n",
    "                ha='center', va='bottom', color='black', fontsize=15, fontweight='bold')\n",
    "\n",
    "# Add significance markers for 'stages_r'\n",
    "for i, bar in enumerate(bars2):\n",
    "    if significance_r[i] < 0.001:\n",
    "        ax.text(bar.get_x() + bar.get_width() / 2., bar.get_height() + std_err_r[i] + 0.01, '***',\n",
    "                ha='center', va='bottom', color='black', fontsize=15, fontweight='bold')\n",
    "    elif significance_r[i] < 0.01:\n",
    "        ax.text(bar.get_x() + bar.get_width() / 2., bar.get_height() + std_err_r[i] + 0.01, '**',\n",
    "                ha='center', va='bottom', color='black', fontsize=15, fontweight='bold')\n",
    "    elif significance_r[i] < 0.05:\n",
    "        ax.text(bar.get_x() + bar.get_width() / 2., bar.get_height() + std_err_r[i] + 0.01, '*',\n",
    "                ha='center', va='bottom', color='black', fontsize=15, fontweight='bold')\n",
    "\n",
    "# Add significance markers for 'stages_resid'\n",
    "for i, bar in enumerate(bars3):\n",
    "    if significance_resid[i] < 0.001:\n",
    "        ax.text(bar.get_x() + bar.get_width() / 2., bar.get_height() + std_err_resid[i] + 0.01, '***',\n",
    "                ha='center', va='bottom', color='black', fontsize=15, fontweight='bold')\n",
    "    elif significance_resid[i] < 0.01:\n",
    "        ax.text(bar.get_x() + bar.get_width() / 2., bar.get_height() + std_err_resid[i] + 0.01, '**',\n",
    "                ha='center', va='bottom', color='black', fontsize=15, fontweight='bold')\n",
    "    elif significance_resid[i] < 0.05:\n",
    "        ax.text(bar.get_x() + bar.get_width() / 2., bar.get_height() + std_err_resid[i] + 0.01, '*',\n",
    "                ha='center', va='bottom', color='black', fontsize=15, fontweight='bold')\n",
    "\n",
    "# Legend\n",
    "ax.legend(fontsize=15, loc='upper left')\n",
    "\n",
    "# Tight layout\n",
    "plt.tight_layout()\n",
    "plt.show()\n"
   ]
  },
  {
   "cell_type": "code",
   "execution_count": 58,
   "metadata": {},
   "outputs": [
    {
     "name": "stdout",
     "output_type": "stream",
     "text": [
      "Pseudo R-squared: 0.38844317891250624\n"
     ]
    }
   ],
   "source": [
    "# Predicted values from the model\n",
    "predicted_y = glm_model.fittedvalues\n",
    "\n",
    "# Sum of Squares Total (SST)\n",
    "SST = np.sum((y - np.mean(y))**2)\n",
    "\n",
    "# Sum of Squares Residual (SSR)\n",
    "SSR = np.sum((y - predicted_y)**2)\n",
    "\n",
    "# Pseudo R-squared\n",
    "pseudo_r_squared = 1 - SSR / SST\n",
    "\n",
    "print(f'Pseudo R-squared: {pseudo_r_squared}')"
   ]
  },
  {
   "cell_type": "markdown",
   "metadata": {},
   "source": [
    "#### VIF"
   ]
  },
  {
   "cell_type": "code",
   "execution_count": 59,
   "metadata": {},
   "outputs": [
    {
     "name": "stdout",
     "output_type": "stream",
     "text": [
      "          Feature         VIF\n",
      "0           const  206.627651\n",
      "1         Stage_1    1.384113\n",
      "2         Stage_2    1.648951\n",
      "3   Stage_3_Early    2.902604\n",
      "4  Stage_3_Middle    2.496062\n",
      "5    Stage_3_Late    1.115158\n",
      "6         Stage_4    1.130493\n"
     ]
    }
   ],
   "source": [
    "# Create a DataFrame to hold VIF values\n",
    "vif_data = pd.DataFrame()\n",
    "vif_data[\"Feature\"] = X_gr.columns\n",
    "\n",
    "# Calculate VIF for each feature\n",
    "vif_data[\"VIF\"] = [variance_inflation_factor(X_g.values, i) for i in range(X_g.shape[1])]\n",
    "\n",
    "print(vif_data)"
   ]
  },
  {
   "cell_type": "markdown",
   "metadata": {},
   "source": [
    "### How neural layer feature contributes to engagement?"
   ]
  },
  {
   "cell_type": "markdown",
   "metadata": {},
   "source": [
    "#### Upvotes"
   ]
  },
  {
   "cell_type": "code",
   "execution_count": 35,
   "metadata": {},
   "outputs": [
    {
     "name": "stdout",
     "output_type": "stream",
     "text": [
      "                 Generalized Linear Model Regression Results                  \n",
      "==============================================================================\n",
      "Dep. Variable:                upvotes   No. Observations:                  997\n",
      "Model:                            GLM   Df Residuals:                      990\n",
      "Model Family:        NegativeBinomial   Df Model:                            6\n",
      "Link Function:                    Log   Scale:                          1.0000\n",
      "Method:                          IRLS   Log-Likelihood:                -6264.0\n",
      "Date:                Wed, 08 Jan 2025   Deviance:                       1547.8\n",
      "Time:                        22:26:49   Pearson chi2:                 1.02e+03\n",
      "No. Iterations:                     7   Pseudo R-squ. (CS):           0.005813\n",
      "Covariance Type:                  HC3                                         \n",
      "==================================================================================\n",
      "                     coef    std err          z      P>|z|      [0.025      0.975]\n",
      "----------------------------------------------------------------------------------\n",
      "const              4.7786      0.296     16.149      0.000       4.199       5.359\n",
      "Stage_1            0.0606      1.032      0.059      0.953      -1.961       2.082\n",
      "Stage_2            1.2044      0.785      1.534      0.125      -0.334       2.743\n",
      "Stage_3_Early     -0.6635      0.837     -0.793      0.428      -2.304       0.977\n",
      "Stage_3_Middle    -0.3384      0.646     -0.524      0.600      -1.604       0.928\n",
      "Stage_3_Late       0.3092      0.654      0.473      0.637      -0.973       1.592\n",
      "Stage_4            0.5469      0.369      1.481      0.139      -0.177       1.271\n",
      "==================================================================================\n"
     ]
    }
   ],
   "source": [
    "import statsmodels.api as sm\n",
    "X_2 = sm.add_constant(layers)\n",
    "y_2 = df['upvotes'].reset_index(drop=True)\n",
    "\n",
    "# Using Negative Binomial regression\n",
    "nb_model = sm.GLM(y_2, X_2, family=sm.families.NegativeBinomial(alpha = 0.52)).fit(cov_type= 'HC3')\n",
    "print(nb_model.summary())"
   ]
  },
  {
   "cell_type": "markdown",
   "metadata": {},
   "source": [
    "#### Comments"
   ]
  },
  {
   "cell_type": "code",
   "execution_count": 92,
   "metadata": {},
   "outputs": [
    {
     "name": "stdout",
     "output_type": "stream",
     "text": [
      "                 Generalized Linear Model Regression Results                  \n",
      "==============================================================================\n",
      "Dep. Variable:               comments   No. Observations:                  997\n",
      "Model:                            GLM   Df Residuals:                      990\n",
      "Model Family:        NegativeBinomial   Df Model:                            6\n",
      "Link Function:                    Log   Scale:                          1.0000\n",
      "Method:                          IRLS   Log-Likelihood:                -3250.9\n",
      "Date:                Sat, 11 Jan 2025   Deviance:                       669.51\n",
      "Time:                        15:07:46   Pearson chi2:                     996.\n",
      "No. Iterations:                     6   Pseudo R-squ. (CS):            0.02755\n",
      "Covariance Type:                  HC3                                         \n",
      "==================================================================================\n",
      "                     coef    std err          z      P>|z|      [0.025      0.975]\n",
      "----------------------------------------------------------------------------------\n",
      "const              1.0778      0.318      3.394      0.001       0.455       1.700\n",
      "Stage_1           -1.3970      1.152     -1.212      0.225      -3.656       0.862\n",
      "Stage_2           -0.5793      0.904     -0.641      0.521      -2.350       1.192\n",
      "Stage_3_Early      2.7827      0.846      3.287      0.001       1.124       4.442\n",
      "Stage_3_Middle    -2.2131      0.651     -3.401      0.001      -3.488      -0.938\n",
      "Stage_3_Late       0.7538      0.612      1.231      0.218      -0.446       1.954\n",
      "Stage_4            1.7336      0.385      4.505      0.000       0.979       2.488\n",
      "==================================================================================\n",
      "                 Generalized Linear Model Regression Results                  \n",
      "==============================================================================\n",
      "Dep. Variable:               comments   No. Observations:                  997\n",
      "Model:                            GLM   Df Residuals:                      990\n",
      "Model Family:        NegativeBinomial   Df Model:                            6\n",
      "Link Function:                    Log   Scale:                          1.0000\n",
      "Method:                          IRLS   Log-Likelihood:                -3247.6\n",
      "Date:                Sat, 11 Jan 2025   Deviance:                       662.77\n",
      "Time:                        15:07:46   Pearson chi2:                     964.\n",
      "No. Iterations:                     6   Pseudo R-squ. (CS):            0.03411\n",
      "Covariance Type:                  HC3                                         \n",
      "==================================================================================\n",
      "                     coef    std err          z      P>|z|      [0.025      0.975]\n",
      "----------------------------------------------------------------------------------\n",
      "const             -1.8839      2.119     -0.889      0.374      -6.037       2.270\n",
      "Stage_1            0.6340      0.948      0.669      0.504      -1.224       2.492\n",
      "Stage_2           -1.1516      1.838     -0.627      0.531      -4.754       2.450\n",
      "Stage_3_Early     -0.6923      1.254     -0.552      0.581      -3.150       1.765\n",
      "Stage_3_Middle    -0.5816      1.476     -0.394      0.693      -3.474       2.311\n",
      "Stage_3_Late       1.5557      0.714      2.180      0.029       0.157       2.954\n",
      "Stage_4            4.9966      1.888      2.646      0.008       1.296       8.697\n",
      "==================================================================================\n",
      "                 Generalized Linear Model Regression Results                  \n",
      "==============================================================================\n",
      "Dep. Variable:               comments   No. Observations:                  997\n",
      "Model:                            GLM   Df Residuals:                      991\n",
      "Model Family:        NegativeBinomial   Df Model:                            5\n",
      "Link Function:                    Log   Scale:                          1.0000\n",
      "Method:                          IRLS   Log-Likelihood:                -3253.5\n",
      "Date:                Sat, 11 Jan 2025   Deviance:                       674.59\n",
      "Time:                        15:07:46   Pearson chi2:                     994.\n",
      "No. Iterations:                     6   Pseudo R-squ. (CS):            0.02258\n",
      "Covariance Type:                  HC3                                         \n",
      "==================================================================================\n",
      "                     coef    std err          z      P>|z|      [0.025      0.975]\n",
      "----------------------------------------------------------------------------------\n",
      "const           1.569e+15   1.48e+13    106.259      0.000    1.54e+15     1.6e+15\n",
      "Stage_1           -1.0765      1.107     -0.973      0.331      -3.245       1.092\n",
      "Stage_2           -0.0559      0.861     -0.065      0.948      -1.743       1.631\n",
      "Stage_3_Early      3.2131      0.802      4.008      0.000       1.642       4.784\n",
      "Stage_3_Middle    -2.5154      0.629     -3.998      0.000      -3.748      -1.282\n",
      "Stage_3_Late      -0.7412      0.737     -1.005      0.315      -2.186       0.704\n",
      "Stage_4            1.0624      0.416      2.555      0.011       0.247       1.877\n",
      "==================================================================================\n"
     ]
    }
   ],
   "source": [
    "import statsmodels.api as sm\n",
    "X_3 = sm.add_constant(layers)\n",
    "X_3r = sm.add_constant(layersR)\n",
    "y_3 = df['comments'].reset_index(drop=True)\n",
    "\n",
    "# Using Negative Binomial regression\n",
    "nb_model = sm.GLM(y_3, X_3, family=sm.families.NegativeBinomial(alpha = 0.44)).fit(cov_type= 'HC3')\n",
    "print(nb_model.summary())\n",
    "\n",
    "nb_model_r = sm.GLM(y_3, X_3r, family=sm.families.NegativeBinomial(alpha = 0.44)).fit(cov_type= 'HC3')\n",
    "print(nb_model_r.summary())\n",
    "\n",
    "nb_model_resid = sm.GLM(y_3, residuals, family=sm.families.NegativeBinomial(alpha = 0.44)).fit(cov_type= 'HC3')\n",
    "print(nb_model_resid.summary())\n",
    "\n"
   ]
  },
  {
   "cell_type": "code",
   "execution_count": 86,
   "metadata": {},
   "outputs": [
    {
     "data": {
      "image/png": "[encoded data removed]",
      "text/plain": [
       "<Figure size 864x576 with 1 Axes>"
      ]
     },
     "metadata": {
      "needs_background": "light"
     },
     "output_type": "display_data"
    }
   ],
   "source": [
    "import matplotlib.pyplot as plt\n",
    "import numpy as np\n",
    "\n",
    "# Data\n",
    "stages = [\"Stage 1\", \"Stage 2\", \"Stage 3 Early\", \"Stage 3 Middle\", \"Stage 3 Late\", \"Stage 4\"]\n",
    "coef = [-1.398, -0.579, 2.783, -2.2131, 0.7538, 1.7336]\n",
    "std_err = [1.152, 0.904, 0.846, 0.651, 0.612, 0.385]\n",
    "\n",
    "stages_r = [\"Stage 1\", \"Stage 2\", \"Stage 3 Early\", \"Stage 3 Middle\", \"Stage 3 Late\", \"Stage 4\"]\n",
    "coef_r = [0.634, -1.1516, -0.6923, -0.5816, 1.5557, 4.9966]\n",
    "std_err_r = [0.948, 1.838, 1.254, 1.476, 0.714, 1.888]\n",
    "\n",
    "stages_resid = [\"Stage 1\", \"Stage 2\", \"Stage 3 Early\", \"Stage 3 Middle\", \"Stage 3 Late\", \"Stage 4\"]\n",
    "coef_resid = [-1.0765,-0.0559,3.2131,-2.5154,-0.7412,1.0624]\n",
    "std_err_resid = [1.107,0.861,0.802,0.629,0.737,0.416]\n",
    "\n",
    "x_values = np.arange(len(stages))\n",
    "\n",
    "# Plot setup\n",
    "fig, ax = plt.subplots(figsize=(12, 8))\n",
    "width = 0.25  # Bar width (reduced to prevent overlap)\n",
    "\n",
    "# Plot bars for stages\n",
    "bars1 = ax.bar(x_values - width, coef, color='#0339f8', yerr=std_err, capsize=10, alpha=0.8, width=width, label='ResMem ($R^2 = 0.028$)')\n",
    "bars2 = ax.bar(x_values, coef_r, color=\"#632DE9\", yerr=std_err_r, capsize=10, alpha=0.8, width=width, label='ResNet ($R^2 = 0.034$)')\n",
    "bars3 = ax.bar(x_values + width, coef_resid, color=\"red\", yerr=std_err_resid, capsize=10, alpha=0.8, width=width, label='ResMem-residual ($R^2 = 0.023$)')\n",
    "\n",
    "# Axes and labels\n",
    "ax.set_xticks(x_values)\n",
    "ax.set_xticklabels(stages, rotation=45, fontsize=20)\n",
    "plt.yticks(fontsize=15)\n",
    "ax.set_ylabel('Coefficients', fontsize=20, fontweight='bold')\n",
    "ax.set_title('Coefficients for Comments', fontsize=28, fontweight='bold')\n",
    "ax.grid(True, linestyle='--', alpha=0.25)\n",
    "ax.spines['left'].set_visible(False)\n",
    "ax.spines['right'].set_visible(False)\n",
    "\n",
    "# Add significance markers for 'stages'\n",
    "significance = [1,1,0.001,0.001,1,0]\n",
    "significance_r = [1,1,1,1,0.029,0.008]\n",
    "significance_resid = [1,1,0,0,1,0.011]\n",
    "\n",
    "for i, bar in enumerate(bars1):\n",
    "    if significance[i] < 0.001:\n",
    "        ax.text(bar.get_x() + bar.get_width() / 2., bar.get_height() + std_err[i] + 0.01, '***',\n",
    "                ha='center', va='bottom', color='black', fontsize=15, fontweight='bold')\n",
    "    elif significance[i] < 0.01:\n",
    "        ax.text(bar.get_x() + bar.get_width() / 2., bar.get_height() + std_err[i] + 0.01, '**',\n",
    "                ha='center', va='bottom', color='black', fontsize=15, fontweight='bold')\n",
    "    elif significance[i] < 0.05:\n",
    "        ax.text(bar.get_x() + bar.get_width() / 2., bar.get_height() + std_err[i] + 0.01, '*',\n",
    "                ha='center', va='bottom', color='black', fontsize=15, fontweight='bold')\n",
    "\n",
    "# Add significance markers for 'stages_r'\n",
    "for i, bar in enumerate(bars2):\n",
    "    if significance_r[i] < 0.001:\n",
    "        ax.text(bar.get_x() + bar.get_width() / 2., bar.get_height() + std_err_r[i] + 0.01, '***',\n",
    "                ha='center', va='bottom', color='black', fontsize=15, fontweight='bold')\n",
    "    elif significance_r[i] < 0.01:\n",
    "        ax.text(bar.get_x() + bar.get_width() / 2., bar.get_height() + std_err_r[i] + 0.01, '**',\n",
    "                ha='center', va='bottom', color='black', fontsize=15, fontweight='bold')\n",
    "    elif significance_r[i] < 0.05:\n",
    "        ax.text(bar.get_x() + bar.get_width() / 2., bar.get_height() + std_err_r[i] + 0.01, '*',\n",
    "                ha='center', va='bottom', color='black', fontsize=15, fontweight='bold')\n",
    "\n",
    "# Add significance markers for 'stages_resid'\n",
    "for i, bar in enumerate(bars3):\n",
    "    if significance_resid[i] < 0.001:\n",
    "        ax.text(bar.get_x() + bar.get_width() / 2., bar.get_height() + std_err_resid[i] + 0.01, '***',\n",
    "                ha='center', va='bottom', color='black', fontsize=15, fontweight='bold')\n",
    "    elif significance_resid[i] < 0.01:\n",
    "        ax.text(bar.get_x() + bar.get_width() / 2., bar.get_height() + std_err_resid[i] + 0.01, '**',\n",
    "                ha='center', va='bottom', color='black', fontsize=15, fontweight='bold')\n",
    "    elif significance_resid[i] < 0.05:\n",
    "        ax.text(bar.get_x() + bar.get_width() / 2., bar.get_height() + std_err_resid[i] + 0.01, '*',\n",
    "                ha='center', va='bottom', color='black', fontsize=15, fontweight='bold')\n",
    "\n",
    "# Legend\n",
    "ax.legend(fontsize=15, loc='upper left')\n",
    "\n",
    "# Tight layout\n",
    "plt.tight_layout()\n",
    "plt.show()\n"
   ]
  },
  {
   "cell_type": "markdown",
   "metadata": {},
   "source": [
    "### How does semantic richness relates to sentiment?"
   ]
  },
  {
   "cell_type": "code",
   "execution_count": 69,
   "metadata": {},
   "outputs": [
    {
     "name": "stdout",
     "output_type": "stream",
     "text": [
      "                 Generalized Linear Model Regression Results                  \n",
      "==============================================================================\n",
      "Dep. Variable:      average_sentiment   No. Observations:                  997\n",
      "Model:                            GLM   Df Residuals:                      990\n",
      "Model Family:                Gaussian   Df Model:                            6\n",
      "Link Function:               identity   Scale:                        0.048091\n",
      "Method:                          IRLS   Log-Likelihood:                 101.60\n",
      "Date:                Fri, 10 Jan 2025   Deviance:                       47.611\n",
      "Time:                        17:16:25   Pearson chi2:                     47.6\n",
      "No. Iterations:                     3   Pseudo R-squ. (CS):            0.03896\n",
      "Covariance Type:                  HC3                                         \n",
      "==================================================================================\n",
      "                     coef    std err          z      P>|z|      [0.025      0.975]\n",
      "----------------------------------------------------------------------------------\n",
      "const              0.6835      0.100      6.841      0.000       0.488       0.879\n",
      "Stage_1           -0.0300      0.344     -0.087      0.931      -0.705       0.645\n",
      "Stage_2            0.3628      0.215      1.684      0.092      -0.059       0.785\n",
      "Stage_3_Early     -0.5580      0.283     -1.972      0.049      -1.112      -0.003\n",
      "Stage_3_Middle     0.4763      0.229      2.084      0.037       0.028       0.924\n",
      "Stage_3_Late      -0.1902      0.202     -0.942      0.346      -0.586       0.206\n",
      "Stage_4           -0.6475      0.120     -5.418      0.000      -0.882      -0.413\n",
      "==================================================================================\n",
      "                 Generalized Linear Model Regression Results                  \n",
      "==============================================================================\n",
      "Dep. Variable:      average_sentiment   No. Observations:                  997\n",
      "Model:                            GLM   Df Residuals:                      990\n",
      "Model Family:                Gaussian   Df Model:                            6\n",
      "Link Function:               identity   Scale:                        0.047573\n",
      "Method:                          IRLS   Log-Likelihood:                 107.01\n",
      "Date:                Fri, 10 Jan 2025   Deviance:                       47.097\n",
      "Time:                        17:16:25   Pearson chi2:                     47.1\n",
      "No. Iterations:                     3   Pseudo R-squ. (CS):            0.04972\n",
      "Covariance Type:                  HC3                                         \n",
      "==================================================================================\n",
      "                     coef    std err          z      P>|z|      [0.025      0.975]\n",
      "----------------------------------------------------------------------------------\n",
      "const              2.3423      0.720      3.255      0.001       0.932       3.753\n",
      "Stage_1           -0.0410      0.307     -0.134      0.894      -0.642       0.560\n",
      "Stage_2            0.4964      0.541      0.918      0.359      -0.564       1.556\n",
      "Stage_3_Early      0.5465      0.387      1.413      0.158      -0.211       1.304\n",
      "Stage_3_Middle    -0.7838      0.482     -1.626      0.104      -1.728       0.161\n",
      "Stage_3_Late      -0.0577      0.222     -0.259      0.795      -0.494       0.378\n",
      "Stage_4           -2.3866      0.620     -3.849      0.000      -3.602      -1.171\n",
      "==================================================================================\n",
      "                 Generalized Linear Model Regression Results                  \n",
      "==============================================================================\n",
      "Dep. Variable:      average_sentiment   No. Observations:                  997\n",
      "Model:                            GLM   Df Residuals:                      991\n",
      "Model Family:                Gaussian   Df Model:                            5\n",
      "Link Function:               identity   Scale:                        0.048810\n",
      "Method:                          IRLS   Log-Likelihood:                 93.707\n",
      "Date:                Fri, 10 Jan 2025   Deviance:                       48.371\n",
      "Time:                        17:16:25   Pearson chi2:                     48.4\n",
      "No. Iterations:                     3   Pseudo R-squ. (CS):            0.02325\n",
      "Covariance Type:                  HC3                                         \n",
      "==================================================================================\n",
      "                     coef    std err          z      P>|z|      [0.025      0.975]\n",
      "----------------------------------------------------------------------------------\n",
      "const           1.149e+14   4.49e+12     25.603      0.000    1.06e+14    1.24e+14\n",
      "Stage_1           -0.1431      0.336     -0.426      0.670      -0.801       0.515\n",
      "Stage_2            0.1940      0.230      0.843      0.399      -0.257       0.645\n",
      "Stage_3_Early     -0.6247      0.264     -2.365      0.018      -1.142      -0.107\n",
      "Stage_3_Middle     0.6745      0.212      3.184      0.001       0.259       1.090\n",
      "Stage_3_Late       0.1809      0.244      0.742      0.458      -0.297       0.659\n",
      "Stage_4           -0.3948      0.132     -2.982      0.003      -0.654      -0.135\n",
      "==================================================================================\n"
     ]
    }
   ],
   "source": [
    "# Data Preparation\n",
    "import statsmodels.api as sm\n",
    "X_4 = sm.add_constant(layers)\n",
    "X_4r = sm.add_constant(layersR)\n",
    "y_4 = df['average_sentiment'].reset_index(drop=True)\n",
    "\n",
    "model = sm.GLM(y_4, X_4, family=sm.families.Gaussian()).fit(cov_type='HC3')\n",
    "print(model.summary())\n",
    "\n",
    "model_r = sm.GLM(y_4, X_4r, family=sm.families.Gaussian()).fit(cov_type='HC3')\n",
    "print(model_r.summary())\n",
    "\n",
    "model_resid = sm.GLM(y_4, residuals, family=sm.families.Gaussian()).fit(cov_type='HC3')\n",
    "print(model_resid.summary())\n"
   ]
  },
  {
   "cell_type": "code",
   "execution_count": 87,
   "metadata": {},
   "outputs": [
    {
     "data": {
      "image/png": "[encoded data removed]",
      "text/plain": [
       "<Figure size 864x576 with 1 Axes>"
      ]
     },
     "metadata": {
      "needs_background": "light"
     },
     "output_type": "display_data"
    }
   ],
   "source": [
    "import matplotlib.pyplot as plt\n",
    "import numpy as np\n",
    "\n",
    "# Data\n",
    "stages = [\"Stage 1\", \"Stage 2\", \"Stage 3 Early\", \"Stage 3 Middle\", \"Stage 3 Late\", \"Stage 4\"]\n",
    "coef = [-0.03,0.3628,-0.558,0.476,-0.1902,-0.6475]\n",
    "std_err = [0.344,0.215,0.283,0.229,0.202,0.120]\n",
    "\n",
    "stages_r = [\"Stage 1\", \"Stage 2\", \"Stage 3 Early\", \"Stage 3 Middle\", \"Stage 3 Late\", \"Stage 4\"]\n",
    "coef_r =[-0.0410,0.4964,0.5465,-0.7838,-0.0577,-2.3866]\n",
    "std_err_r = [0.307,0.541,0.387,0.482,0.222,0.620]\n",
    "\n",
    "stages_resid = [\"Stage 1\", \"Stage 2\", \"Stage 3 Early\", \"Stage 3 Middle\", \"Stage 3 Late\", \"Stage 4\"]\n",
    "coef_resid = [-0.1431,0.194,-0.6247,0.6745,0.1809,-0.3948]\n",
    "std_err_resid = [0.336,0.23,0.264,0.212,0.244,0.132]\n",
    "\n",
    "x_values = np.arange(len(stages))\n",
    "\n",
    "# Plot setup\n",
    "fig, ax = plt.subplots(figsize=(12, 8))\n",
    "width = 0.25  # Bar width (reduced to prevent overlap)\n",
    "\n",
    "# Plot bars for stages\n",
    "bars1 = ax.bar(x_values - width, coef, color='#0339f8', yerr=std_err, capsize=10, alpha=0.8, width=width, label='ResMem ($R^2 = 0.039$)')\n",
    "bars2 = ax.bar(x_values, coef_r, color=\"#632DE9\", yerr=std_err_r, capsize=10, alpha=0.8, width=width, label='ResNet ($R^2 = 0.050$)')\n",
    "bars3 = ax.bar(x_values + width, coef_resid, color=\"red\", yerr=std_err_resid, capsize=10, alpha=0.8, width=width, label='ResMem-residual ($R^2 = 0.023$)')\n",
    "\n",
    "# Axes and labels\n",
    "ax.set_xticks(x_values)\n",
    "ax.set_xticklabels(stages, rotation=45, fontsize=20)\n",
    "plt.yticks(fontsize=15)\n",
    "ax.set_ylabel('Coefficients', fontsize=20, fontweight='bold')\n",
    "ax.set_title('Coefficients for Sentiment', fontsize=28, fontweight='bold')\n",
    "ax.grid(True, linestyle='--', alpha=0.25)\n",
    "ax.spines['left'].set_visible(False)\n",
    "ax.spines['right'].set_visible(False)\n",
    "\n",
    "# Add significance markers for 'stages'\n",
    "significance = [1,1,0.001,0.001,1,0]\n",
    "significance_r = [1,1,1,1,0.029,0.008]\n",
    "significance_resid = [1,1,0,0,1,0.011]\n",
    "\n",
    "for i, bar in enumerate(bars1):\n",
    "    if significance[i] < 0.001:\n",
    "        ax.text(bar.get_x() + bar.get_width() / 2., bar.get_height() + std_err[i] + 0.01, '***',\n",
    "                ha='center', va='bottom', color='black', fontsize=15, fontweight='bold')\n",
    "    elif significance[i] < 0.01:\n",
    "        ax.text(bar.get_x() + bar.get_width() / 2., bar.get_height() + std_err[i] + 0.01, '**',\n",
    "                ha='center', va='bottom', color='black', fontsize=15, fontweight='bold')\n",
    "    elif significance[i] < 0.05:\n",
    "        ax.text(bar.get_x() + bar.get_width() / 2., bar.get_height() + std_err[i] + 0.01, '*',\n",
    "                ha='center', va='bottom', color='black', fontsize=15, fontweight='bold')\n",
    "\n",
    "# Add significance markers for 'stages_r'\n",
    "for i, bar in enumerate(bars2):\n",
    "    if significance_r[i] < 0.001:\n",
    "        ax.text(bar.get_x() + bar.get_width() / 2., bar.get_height() + std_err_r[i] + 0.01, '***',\n",
    "                ha='center', va='bottom', color='black', fontsize=15, fontweight='bold')\n",
    "    elif significance_r[i] < 0.01:\n",
    "        ax.text(bar.get_x() + bar.get_width() / 2., bar.get_height() + std_err_r[i] + 0.01, '**',\n",
    "                ha='center', va='bottom', color='black', fontsize=15, fontweight='bold')\n",
    "    elif significance_r[i] < 0.05:\n",
    "        ax.text(bar.get_x() + bar.get_width() / 2., bar.get_height() + std_err_r[i] + 0.01, '*',\n",
    "                ha='center', va='bottom', color='black', fontsize=15, fontweight='bold')\n",
    "\n",
    "# Add significance markers for 'stages_resid'\n",
    "for i, bar in enumerate(bars3):\n",
    "    if significance_resid[i] < 0.001:\n",
    "        ax.text(bar.get_x() + bar.get_width() / 2., bar.get_height() + std_err_resid[i] + 0.01, '***',\n",
    "                ha='center', va='bottom', color='black', fontsize=15, fontweight='bold')\n",
    "    elif significance_resid[i] < 0.01:\n",
    "        ax.text(bar.get_x() + bar.get_width() / 2., bar.get_height() + std_err_resid[i] + 0.01, '**',\n",
    "                ha='center', va='bottom', color='black', fontsize=15, fontweight='bold')\n",
    "    elif significance_resid[i] < 0.05:\n",
    "        ax.text(bar.get_x() + bar.get_width() / 2., bar.get_height() + std_err_resid[i] + 0.01, '*',\n",
    "                ha='center', va='bottom', color='black', fontsize=15, fontweight='bold')\n",
    "\n",
    "# Legend\n",
    "ax.legend(fontsize=15, loc='lower left')\n",
    "\n",
    "# Tight layout\n",
    "plt.tight_layout()\n",
    "plt.show()\n"
   ]
  },
  {
   "cell_type": "code",
   "execution_count": 26,
   "metadata": {},
   "outputs": [
    {
     "data": {
      "image/png": "[encoded data removed]",
      "text/plain": [
       "<Figure size 720x432 with 1 Axes>"
      ]
     },
     "metadata": {
      "needs_background": "light"
     },
     "output_type": "display_data"
    },
    {
     "data": {
      "image/png": "[encoded data removed]",
      "text/plain": [
       "<Figure size 720x432 with 1 Axes>"
      ]
     },
     "metadata": {
      "needs_background": "light"
     },
     "output_type": "display_data"
    },
    {
     "name": "stdout",
     "output_type": "stream",
     "text": [
      "Mean of Residuals: -5.376999201894519e-16\n",
      "Variance of Residuals: 0.04338936907718378\n",
      "Standard Deviation of Residuals: 0.20830114996606183\n"
     ]
    }
   ],
   "source": [
    "residuals = model.resid_response\n",
    "\n",
    "# Create a DataFrame to hold the fitted values and residuals\n",
    "residuals_df = pd.DataFrame({\n",
    "    'Fitted': model.fittedvalues,\n",
    "    'Residuals': residuals\n",
    "})\n",
    "\n",
    "# Residuals vs Fitted Plot\n",
    "plt.figure(figsize=(10, 6))\n",
    "plt.scatter(residuals_df['Fitted'], residuals_df['Residuals'])\n",
    "plt.axhline(y=0, color='r', linestyle='--')\n",
    "plt.xlabel('Fitted values')\n",
    "plt.ylabel('Residuals')\n",
    "plt.title('Residuals vs Fitted values')\n",
    "plt.show()\n",
    "\n",
    "# Histogram of Residuals\n",
    "plt.figure(figsize=(10, 6))\n",
    "plt.hist(residuals, bins=30, edgecolor='k')\n",
    "plt.xlabel('Residuals')\n",
    "plt.ylabel('Frequency')\n",
    "plt.title('Histogram of Residuals')\n",
    "plt.show()\n",
    "\n",
    "# Print Residual Statistics\n",
    "print(f\"Mean of Residuals: {np.mean(residuals)}\")\n",
    "print(f\"Variance of Residuals: {np.var(residuals)}\")\n",
    "print(f\"Standard Deviation of Residuals: {np.std(residuals)}\")\n"
   ]
  },
  {
   "cell_type": "markdown",
   "metadata": {},
   "source": [
    "## Question 3: Semantic Analysis in Comments"
   ]
  },
  {
   "cell_type": "markdown",
   "metadata": {},
   "source": [
    "#### Toolkits for Semantic Analysis"
   ]
  },
  {
   "cell_type": "code",
   "execution_count": 12,
   "metadata": {},
   "outputs": [],
   "source": [
    "import contractions\n",
    "from collections import Counter, defaultdict\n",
    "import emoji\n",
    "import re\n",
    "import spacy\n",
    "from sklearn.feature_extraction.text import TfidfVectorizer\n",
    "from sklearn.feature_extraction.text import CountVectorizer\n",
    "from sklearn.linear_model import LinearRegression\n",
    "from sklearn.model_selection import train_test_split\n",
    "from sklearn.metrics import mean_squared_error, r2_score\n",
    "from spacy.lang.en.stop_words import STOP_WORDS\n",
    "from gensim.models.phrases import Phrases, Phraser\n",
    "from gensim.matutils import Sparse2Corpus\n",
    "from gensim.corpora.dictionary import Dictionary\n",
    "from gensim.models import HdpModel\n",
    "from gensim import corpora, models, matutils\n",
    "from gensim.models.ldamodel import LdaModel"
   ]
  },
  {
   "cell_type": "markdown",
   "metadata": {},
   "source": [
    "#### Tokenization &  Lemmatization "
   ]
  },
  {
   "cell_type": "code",
   "execution_count": 13,
   "metadata": {},
   "outputs": [],
   "source": [
    "def remove_emojis(text):\n",
    "    return emoji.replace_emoji(text, replace='')\n",
    "\n",
    "def remove_urls(text):\n",
    "    url_pattern = re.compile(r'https?://\\S+|www\\.\\S+')\n",
    "    return url_pattern.sub(r'', text)\n",
    "\n",
    "def remove_symbols(text):\n",
    "    # This pattern will keep only alphabetic characters, apostrophes, and spaces\n",
    "    symbol_pattern = re.compile(r'[^a-zA-Z\\s]')\n",
    "    return symbol_pattern.sub('', text)\n",
    "\n",
    "def clean_repetition(text):\n",
    "    # This regex replaces instances of the same character repeating 3 or more times\n",
    "    text = re.sub(r'(.)\\1{2,}', r'\\1', text)\n",
    "    return text"
   ]
  },
  {
   "cell_type": "code",
   "execution_count": 14,
   "metadata": {},
   "outputs": [],
   "source": [
    "nlp = spacy.load('en_core_web_sm')\n",
    "# Define custom stop words\n",
    "\n",
    "from sklearn.feature_extraction.text import ENGLISH_STOP_WORDS\n",
    "\n",
    "# Define additional stop words\n",
    "custom_stop_words = ['lol', 'shit', 'rightofway', 'bit', 'lot', 'min', \n",
    "                     'picknmix', 'pullyu', 'rfixedit', 'picture', 'image', 'photo',\n",
    "                     'post', 'thank', 'pic']  \n",
    "\n",
    "# Add custom stop words to the default SpaCy stop words list\n",
    "for word in custom_stop_words:\n",
    "    nlp.Defaults.stop_words.add(word)\n",
    "    nlp.vocab[word].is_stop = True"
   ]
  },
  {
   "cell_type": "code",
   "execution_count": 15,
   "metadata": {},
   "outputs": [],
   "source": [
    "comments_dict = {}\n",
    "\n",
    "# Process each comment\n",
    "for index, row in df.iterrows():\n",
    "    # Clean the data thru cleaning functions\n",
    "    comments = [clean_repetition(remove_emojis(remove_urls(contractions.fix(comment['comment_body'])))) for comment in row['top_comments'] if 'comment_body' in comment]\n",
    "    comments = [remove_symbols(comment) for comment in comments]\n",
    "    # Store all the data\n",
    "    processed_comments = {}\n",
    "    for i, comment in enumerate(comments):\n",
    "        doc = nlp(comment)\n",
    "        # Only include nouns and word.length > 2\n",
    "        filtered_lemmatized_words = [\n",
    "            token.lemma_.lower() for token in doc \n",
    "            if token.pos_ in ['NOUN'] and len(token.text) > 2 and token.lemma_.lower() and not token.is_stop\n",
    "        ]\n",
    "        processed_comments[f'Comment_{i+1}'] = filtered_lemmatized_words\n",
    "\n",
    "    comments_dict[row['id']] = processed_comments"
   ]
  },
  {
   "cell_type": "code",
   "execution_count": 16,
   "metadata": {},
   "outputs": [
    {
     "data": {
      "text/html": [
       "<div>\n",
       "<style scoped>\n",
       "    .dataframe tbody tr th:only-of-type {\n",
       "        vertical-align: middle;\n",
       "    }\n",
       "\n",
       "    .dataframe tbody tr th {\n",
       "        vertical-align: top;\n",
       "    }\n",
       "\n",
       "    .dataframe thead th {\n",
       "        text-align: right;\n",
       "    }\n",
       "</style>\n",
       "<table border=\"1\" class=\"dataframe\">\n",
       "  <thead>\n",
       "    <tr style=\"text-align: right;\">\n",
       "      <th></th>\n",
       "      <th>Image ID</th>\n",
       "      <th>Words</th>\n",
       "      <th>memorability scores</th>\n",
       "    </tr>\n",
       "  </thead>\n",
       "  <tbody>\n",
       "    <tr>\n",
       "      <th>0</th>\n",
       "      <td>1c7hzb1</td>\n",
       "      <td>[version, spaghetti, feeding, birch, posture, ...</td>\n",
       "      <td>0.844453</td>\n",
       "    </tr>\n",
       "    <tr>\n",
       "      <th>1</th>\n",
       "      <td>1c7uef5</td>\n",
       "      <td>[butterfly, account, stuff, butterfly, thing, ...</td>\n",
       "      <td>0.715792</td>\n",
       "    </tr>\n",
       "    <tr>\n",
       "      <th>2</th>\n",
       "      <td>1c6uaa0</td>\n",
       "      <td>[aircraft, speed, mph, year, speed, mph, cockp...</td>\n",
       "      <td>0.735333</td>\n",
       "    </tr>\n",
       "    <tr>\n",
       "      <th>3</th>\n",
       "      <td>1c7ruyn</td>\n",
       "      <td>[bear, baldness, bear, hair, rumor, fur, inspi...</td>\n",
       "      <td>0.838639</td>\n",
       "    </tr>\n",
       "    <tr>\n",
       "      <th>4</th>\n",
       "      <td>1c70p7m</td>\n",
       "      <td>[surviving, mean, sister]</td>\n",
       "      <td>0.781850</td>\n",
       "    </tr>\n",
       "    <tr>\n",
       "      <th>...</th>\n",
       "      <td>...</td>\n",
       "      <td>...</td>\n",
       "      <td>...</td>\n",
       "    </tr>\n",
       "    <tr>\n",
       "      <th>992</th>\n",
       "      <td>j6h2ba</td>\n",
       "      <td>[]</td>\n",
       "      <td>0.517462</td>\n",
       "    </tr>\n",
       "    <tr>\n",
       "      <th>993</th>\n",
       "      <td>j6fa6m</td>\n",
       "      <td>[time, week, today]</td>\n",
       "      <td>0.455731</td>\n",
       "    </tr>\n",
       "    <tr>\n",
       "      <th>994</th>\n",
       "      <td>1cude46</td>\n",
       "      <td>[wisdom, grace, cow, size, freezer, cow, savin...</td>\n",
       "      <td>0.944620</td>\n",
       "    </tr>\n",
       "    <tr>\n",
       "      <th>995</th>\n",
       "      <td>1csmo2g</td>\n",
       "      <td>[tourist, spot, hiking, trail, video, faith, i...</td>\n",
       "      <td>0.837740</td>\n",
       "    </tr>\n",
       "    <tr>\n",
       "      <th>996</th>\n",
       "      <td>1cgs6c1</td>\n",
       "      <td>[today, day, predator, oasis, map]</td>\n",
       "      <td>0.738649</td>\n",
       "    </tr>\n",
       "  </tbody>\n",
       "</table>\n",
       "<p>997 rows × 3 columns</p>\n",
       "</div>"
      ],
      "text/plain": [
       "    Image ID                                              Words  \\\n",
       "0    1c7hzb1  [version, spaghetti, feeding, birch, posture, ...   \n",
       "1    1c7uef5  [butterfly, account, stuff, butterfly, thing, ...   \n",
       "2    1c6uaa0  [aircraft, speed, mph, year, speed, mph, cockp...   \n",
       "3    1c7ruyn  [bear, baldness, bear, hair, rumor, fur, inspi...   \n",
       "4    1c70p7m                          [surviving, mean, sister]   \n",
       "..       ...                                                ...   \n",
       "992   j6h2ba                                                 []   \n",
       "993   j6fa6m                                [time, week, today]   \n",
       "994  1cude46  [wisdom, grace, cow, size, freezer, cow, savin...   \n",
       "995  1csmo2g  [tourist, spot, hiking, trail, video, faith, i...   \n",
       "996  1cgs6c1                 [today, day, predator, oasis, map]   \n",
       "\n",
       "     memorability scores  \n",
       "0               0.844453  \n",
       "1               0.715792  \n",
       "2               0.735333  \n",
       "3               0.838639  \n",
       "4               0.781850  \n",
       "..                   ...  \n",
       "992             0.517462  \n",
       "993             0.455731  \n",
       "994             0.944620  \n",
       "995             0.837740  \n",
       "996             0.738649  \n",
       "\n",
       "[997 rows x 3 columns]"
      ]
     },
     "execution_count": 16,
     "metadata": {},
     "output_type": "execute_result"
    }
   ],
   "source": [
    "# Initialize a list to hold each row's data\n",
    "rows_list_words = []\n",
    "\n",
    "# Process each image ID in the comments dictionary\n",
    "for image_id, comments in comments_dict.items():\n",
    "    # Flatten the list of words from all comments for this image\n",
    "    words = [word for comment_id in comments for word in comments[comment_id]]\n",
    "    # Count the frequencies of each word\n",
    "    # Create a dictionary for the current row\n",
    "    row_data = {\n",
    "        'Image ID': image_id,\n",
    "        'Words': words  # This will store the list of tuples\n",
    "    }\n",
    "    # Append the row data to the list\n",
    "    rows_list_words.append(row_data)\n",
    "\n",
    "# Create a DataFrame from the list of rows\n",
    "words_df = pd.DataFrame(rows_list_words)\n",
    "words_df['memorability scores'] = df['memorability_score'].reset_index(drop=True)\n",
    "words_df"
   ]
  },
  {
   "cell_type": "code",
   "execution_count": 17,
   "metadata": {},
   "outputs": [
    {
     "name": "stdout",
     "output_type": "stream",
     "text": [
      "Image IDs with empty 'Words': ['1c6ssnk', '1c7vhvv', '1c7mg8h', '1820e93', '14kxbe4', '11t7g6k', 'wj0z50', '119tfs9', 'qfuhly', '1cb8o8r', '1ccfje9', '1cd6ovf', '1ccex8v', '1b34ezy', 'r1wvac', 'lttl1g', '1cwy9s7', '1cwf34c', '1cv3o94', '1cwj9cu', '1cvxvcc', 'r7a67f', 'qbu67n', 'qb8qxh', 'pokt9t', 'nqpk9w', 'mgf481', 'lqq35z', 'lgziqc', 'kjtfdp', 'jsabl0', 'j6h2ba']\n"
     ]
    }
   ],
   "source": [
    "# Check for empty lists in 'Top 10 Words'\n",
    "words_df['Blank'] = words_df['Words'].apply(lambda x: len(x) == 0)\n",
    "# Store IDs of images with empty 'Top 10 Words'\n",
    "empty_top_words = words_df[words_df['Blank']]['Image ID'].tolist()\n",
    "\n",
    "print(\"Image IDs with empty 'Words':\", empty_top_words)\n",
    "\n",
    "words_df = words_df[~words_df['Blank']]"
   ]
  },
  {
   "cell_type": "code",
   "execution_count": 18,
   "metadata": {},
   "outputs": [
    {
     "name": "stderr",
     "output_type": "stream",
     "text": [
      "/var/folders/l4/l90dznp92ns0myv_j37sn7fm0000gn/T/ipykernel_53939/305948859.py:6: SettingWithCopyWarning: \n",
      "A value is trying to be set on a copy of a slice from a DataFrame.\n",
      "Try using .loc[row_indexer,col_indexer] = value instead\n",
      "\n",
      "See the caveats in the documentation: https://pandas.pydata.org/pandas-docs/stable/user_guide/indexing.html#returning-a-view-versus-a-copy\n",
      "  words_df.loc[:,'Document'] = words_df['Words'].apply(create_document)\n"
     ]
    }
   ],
   "source": [
    "def create_document(words):\n",
    "    # Join the list of words into a single string (a document)\n",
    "    document = ' '.join(words)\n",
    "    return document\n",
    "\n",
    "words_df.loc[:,'Document'] = words_df['Words'].apply(create_document)\n",
    "\n",
    "# Create a list that contains the text of each document\n",
    "documents_nfrq = words_df['Document'].tolist()"
   ]
  },
  {
   "cell_type": "code",
   "execution_count": 19,
   "metadata": {},
   "outputs": [
    {
     "name": "stderr",
     "output_type": "stream",
     "text": [
      "/var/folders/l4/l90dznp92ns0myv_j37sn7fm0000gn/T/ipykernel_53939/564338894.py:2: SettingWithCopyWarning: \n",
      "A value is trying to be set on a copy of a slice from a DataFrame.\n",
      "Try using .loc[row_indexer,col_indexer] = value instead\n",
      "\n",
      "See the caveats in the documentation: https://pandas.pydata.org/pandas-docs/stable/user_guide/indexing.html#returning-a-view-versus-a-copy\n",
      "  words_df.loc[:,'Word Count'] = words_df['Words'].apply(lambda x: len(x))\n"
     ]
    }
   ],
   "source": [
    "# Count the number of words in each entry of the 'Words' column\n",
    "words_df.loc[:,'Word Count'] = words_df['Words'].apply(lambda x: len(x))"
   ]
  },
  {
   "cell_type": "code",
   "execution_count": 20,
   "metadata": {},
   "outputs": [],
   "source": [
    "words_df = words_df.reset_index(drop=True)"
   ]
  },
  {
   "cell_type": "markdown",
   "metadata": {},
   "source": [
    "#### Consistency Analysis is stored in another ipynb file"
   ]
  },
  {
   "cell_type": "code",
   "execution_count": 50,
   "metadata": {},
   "outputs": [],
   "source": [
    "allcomment_labels = pd.read_csv('/Users/lucian/library/cloudstorage/box-box/memoMedia/reddit_Data/image_labels.csv')\n",
    "comment_labels = allcomment_labels[allcomment_labels['Image Name'].isin(words_df['Image ID'])]"
   ]
  },
  {
   "cell_type": "code",
   "execution_count": 51,
   "metadata": {},
   "outputs": [
    {
     "name": "stderr",
     "output_type": "stream",
     "text": [
      "/var/folders/l4/l90dznp92ns0myv_j37sn7fm0000gn/T/ipykernel_56466/1257421612.py:6: SettingWithCopyWarning: \n",
      "A value is trying to be set on a copy of a slice from a DataFrame.\n",
      "Try using .loc[row_indexer,col_indexer] = value instead\n",
      "\n",
      "See the caveats in the documentation: https://pandas.pydata.org/pandas-docs/stable/user_guide/indexing.html#returning-a-view-versus-a-copy\n",
      "  comment_labels['Tokenized_labels'] = None\n"
     ]
    }
   ],
   "source": [
    "import pandas as pd\n",
    "import spacy\n",
    "import contractions\n",
    "\n",
    "# Initialize a new column for processed labels\n",
    "comment_labels['Tokenized_labels'] = None\n",
    "\n",
    "# Process each label\n",
    "for index, row in comment_labels.iterrows():\n",
    "    # Clean the data through cleaning functions\n",
    "    label = clean_repetition(row['Labels'])\n",
    "    \n",
    "    # Process the label\n",
    "    doc = nlp(label)\n",
    "    \n",
    "    filtered_lemmatized_words = [\n",
    "        token.lemma_.lower() for token in doc if not token.is_stop and token.is_alpha\n",
    "    ]\n",
    "    # Store the list of words in the DataFrame\n",
    "    comment_labels.at[index, 'Tokenized_labels'] = filtered_lemmatized_words\n",
    "comment_labels = comment_labels.reset_index(drop=True)"
   ]
  },
  {
   "cell_type": "code",
   "execution_count": 52,
   "metadata": {},
   "outputs": [],
   "source": [
    "comment_labels_sorted = comment_labels.sort_values(by='Image Name').reset_index(drop=True)\n",
    "words_df_sorted = words_df.sort_values(by='Image ID').reset_index(drop=True)"
   ]
  },
  {
   "cell_type": "code",
   "execution_count": 53,
   "metadata": {},
   "outputs": [],
   "source": [
    "consistency_df = pd.DataFrame({'imageID': words_df_sorted['Image ID'],\n",
    "                            #    'C': overlapping_words_counts,\n",
    "                            #   'T': words_df['Word Count'],\n",
    "                              'memorability_scores': words_df_sorted['memorability scores'],\n",
    "                              'comments': words_df_sorted['Words'],\n",
    "                              'labels': comment_labels_sorted['Tokenized_labels']})\n",
    "\n",
    "# consistency_df['score']= consistency_df['C']/consistency_df['T']\n",
    "consistency_df.to_csv('consistency_df_new.csv')"
   ]
  }
 ],
 "metadata": {
  "kernelspec": {
   "display_name": "base",
   "language": "python",
   "name": "python3"
  },
  "language_info": {
   "codemirror_mode": {
    "name": "ipython",
    "version": 3
   },
   "file_extension": ".py",
   "mimetype": "text/x-python",
   "name": "python",
   "nbconvert_exporter": "python",
   "pygments_lexer": "ipython3",
   "version": "3.9.12"
  }
 },
 "nbformat": 4,
 "nbformat_minor": 2
}
